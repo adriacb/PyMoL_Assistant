{
 "cells": [
  {
   "cell_type": "code",
   "execution_count": 1,
   "metadata": {},
   "outputs": [
    {
     "name": "stdout",
     "output_type": "stream",
     "text": [
      "Qdrant API Key:  f3TPb\n",
      "OpenAI API Key:  sk-pr\n"
     ]
    }
   ],
   "source": [
    "import os\n",
    "import sys\n",
    "sys.path.append(os.path.join(os.getcwd(), os.pardir, os.pardir))\n",
    "from src.prompts import *\n",
    "from src.db.vector_store import load_config, load_vector_store, OPENAI_API_KEY, QDRANT_API_KEY\n",
    "from qdrant_client import QdrantClient\n",
    "from langchain_openai import ChatOpenAI\n",
    "\n",
    "config = load_config()\n",
    "os.environ[\"OPENAI_API_KEY\"] = OPENAI_API_KEY\n",
    "os.environ[\"QDRANT_API_KEY\"] = QDRANT_API_KEY\n",
    "\n",
    "\n",
    "EMBEDDING_MODEL = \"text-embedding-3-small\"\n",
    "\n",
    "QDRANT_URL = config.get('qdrant').get('url')\n",
    "QDRANT_COLLECTION_NAME = config.get('qdrant').get('collection_name')"
   ]
  },
  {
   "cell_type": "code",
   "execution_count": 2,
   "metadata": {},
   "outputs": [],
   "source": [
    "chat = ChatOpenAI(\n",
    "    model='gpt-4o-mini'\n",
    ")"
   ]
  },
  {
   "cell_type": "code",
   "execution_count": 3,
   "metadata": {},
   "outputs": [],
   "source": [
    "from langchain_qdrant import Qdrant\n",
    "from langchain_openai import OpenAIEmbeddings\n",
    "\n",
    "embed_model = OpenAIEmbeddings(model=EMBEDDING_MODEL)\n",
    "\n",
    "qdrant = Qdrant.from_existing_collection(\n",
    "    url=QDRANT_URL,\n",
    "    embedding=embed_model,\n",
    "    collection_name=QDRANT_COLLECTION_NAME,\n",
    "    vector_name=\"content\", \n",
    "    content_payload_key='content',\n",
    "    distance_strategy='COSINE'\n",
    ")"
   ]
  },
  {
   "cell_type": "code",
   "execution_count": 4,
   "metadata": {},
   "outputs": [],
   "source": [
    "from langchain.schema import (\n",
    "    SystemMessage,    # Generic system message\n",
    "    HumanMessage,     # HumanMessage is a message from the human\n",
    "    AIMessage,        # AIMessage is a message from the AI\n",
    ")\n",
    "\n",
    "def gennerate_query_to_function_prompt(query: str,\n",
    "                                        qdrant: Qdrant, top_k:int=5) -> HumanMessage:\n",
    "\n",
    "    results = qdrant.similarity_search(query=query, k=top_k)\n",
    "\n",
    "    # the context will be the content of each document\n",
    "    context = \"\"\n",
    "\n",
    "    for i, result in enumerate(results):\n",
    "        context += f\"{i+1}. Document:\\n{result.page_content}\\n\\n\"\n",
    "\n",
    "    prompt = HumanMessage(content=LLM_RAG_PROMPT.format(\n",
    "        query=query,\n",
    "        context=context\n",
    "    ))\n",
    "\n",
    "    return prompt"
   ]
  },
  {
   "cell_type": "code",
   "execution_count": 5,
   "metadata": {},
   "outputs": [],
   "source": [
    "query = \"Method to align two structures\"\n",
    "query = \"select the 1a8o protein (not fetch it)\"\n",
    "query = \"select the 1a8o protein\"\n",
    "\n",
    "history = [\n",
    "    SystemMessage(content=SYSTEM_MESSAGE_PROMPT),\n",
    "    ]\n",
    "\n",
    "history.append(gennerate_query_to_function_prompt(query=query, qdrant=qdrant, top_k=3))\n"
   ]
  },
  {
   "cell_type": "code",
   "execution_count": 6,
   "metadata": {},
   "outputs": [],
   "source": [
    "result = chat.invoke(history)"
   ]
  },
  {
   "cell_type": "code",
   "execution_count": 7,
   "metadata": {},
   "outputs": [
    {
     "data": {
      "text/plain": [
       "AIMessage(content='```python\\n{\\n    \"thought\": \"The user wants to retrieve a specific protein structure (1a8o) from the Protein Data Bank (PDB) and load it into PyMOL. The appropriate function for this task is \\'fetch\\', which allows users to download and load structures directly into PyMOL.\",\\n    \"explanation\": \"The \\'fetch\\' command can be used to download the protein structure with the identifier \\'1a8o\\' from the PDB. By default, the structure will be loaded into the current PyMOL session, allowing the user to visualize and manipulate it.\",\\n    \"not_related\": False,\\n    \"missing_requirements\": \"\",\\n    \"usage\": \"cmd.fetch(\\'1a8o\\')\",\\n    \"reference\": \"https://pymolwiki.org/index.php?title=Fetch\"\\n}\\n```', additional_kwargs={'refusal': None}, response_metadata={'token_usage': {'completion_tokens': 172, 'prompt_tokens': 1688, 'total_tokens': 1860, 'completion_tokens_details': {'audio_tokens': None, 'reasoning_tokens': 0}, 'prompt_tokens_details': {'audio_tokens': None, 'cached_tokens': 0}}, 'model_name': 'gpt-4o-mini-2024-07-18', 'system_fingerprint': 'fp_8bfc6a7dc2', 'finish_reason': 'stop', 'logprobs': None}, id='run-92493c4d-d8c8-48b9-b57d-696ffc83fa8a-0', usage_metadata={'input_tokens': 1688, 'output_tokens': 172, 'total_tokens': 1860, 'input_token_details': {'cache_read': 0}, 'output_token_details': {'reasoning': 0}})"
      ]
     },
     "execution_count": 7,
     "metadata": {},
     "output_type": "execute_result"
    }
   ],
   "source": [
    "result"
   ]
  },
  {
   "cell_type": "code",
   "execution_count": 8,
   "metadata": {},
   "outputs": [
    {
     "name": "stdout",
     "output_type": "stream",
     "text": [
      "```python\n",
      "{\n",
      "    \"thought\": \"The user wants to retrieve a specific protein structure (1a8o) from the Protein Data Bank (PDB) and load it into PyMOL. The appropriate function for this task is 'fetch', which allows users to download and load structures directly into PyMOL.\",\n",
      "    \"explanation\": \"The 'fetch' command can be used to download the protein structure with the identifier '1a8o' from the PDB. By default, the structure will be loaded into the current PyMOL session, allowing the user to visualize and manipulate it.\",\n",
      "    \"not_related\": False,\n",
      "    \"missing_requirements\": \"\",\n",
      "    \"usage\": \"cmd.fetch('1a8o')\",\n",
      "    \"reference\": \"https://pymolwiki.org/index.php?title=Fetch\"\n",
      "}\n",
      "```\n"
     ]
    }
   ],
   "source": [
    "print(result.content)"
   ]
  },
  {
   "cell_type": "code",
   "execution_count": 9,
   "metadata": {},
   "outputs": [
    {
     "name": "stdout",
     "output_type": "stream",
     "text": [
      "{'thought': \"The user wants to retrieve a specific protein structure (1a8o) from the Protein Data Bank (PDB) and load it into PyMOL. The appropriate function for this task is 'fetch', which allows users to download and load structures directly into PyMOL.\", 'explanation': \"The 'fetch' command can be used to download the protein structure with the identifier '1a8o' from the PDB. By default, the structure will be loaded into the current PyMOL session, allowing the user to visualize and manipulate it.\", 'not_related': False, 'missing_requirements': '', 'usage': \"cmd.fetch('1a8o')\", 'reference': 'https://pymolwiki.org/index.php?title=Fetch'}\n"
     ]
    }
   ],
   "source": [
    "import ast\n",
    "\n",
    "def parse_dict(content: str):\n",
    "    content = content.replace(\"```python\", \"\")\n",
    "    content = content.replace(\"```\", \"\")\n",
    "    return ast.literal_eval(content)\n",
    "\n",
    "\n",
    "best_documents = parse_dict(result.content)\n",
    "print(best_documents)"
   ]
  },
  {
   "cell_type": "code",
   "execution_count": 11,
   "metadata": {},
   "outputs": [
    {
     "data": {
      "text/plain": [
       "\"cmd.fetch('1a8o')\""
      ]
     },
     "execution_count": 11,
     "metadata": {},
     "output_type": "execute_result"
    }
   ],
   "source": [
    "best_documents['usage']"
   ]
  },
  {
   "cell_type": "code",
   "execution_count": 12,
   "metadata": {},
   "outputs": [
    {
     "name": "stdout",
     "output_type": "stream",
     "text": [
      "```python\n",
      "{\n",
      "    \"thought\": \"The query is asking to color the protein by chain, which can be achieved using the util.cbc function from the utilities library that colors molecules based on their chain identity.\",\n",
      "    \"explanation\": \"The util.cbc function colors each chain in the protein structure with a different color, making it visually easier to distinguish between different chains. The default selection is 'all', which means it will color all chains in the loaded protein.\",\n",
      "    \"not_related\": False,\n",
      "    \"missing_requirements\": \"The command requires a protein structure to be loaded in PyMOL. If no structure is loaded, the command cannot be executed.\",\n",
      "    \"usage\": \"util.cbc(selection='(all)', first_color=7, quiet=1)\",\n",
      "    \"reference\": \"https://pymolwiki.org/index.php?title=CBC&oldid=7440\"\n",
      "}\n",
      "```\n"
     ]
    }
   ],
   "source": [
    "# step 2 color the protein\n",
    "query = \"color the protein by chain\"\n",
    "history.append(gennerate_query_to_function_prompt(query=query, qdrant=qdrant, top_k=3))\n",
    "result = chat.invoke(history)\n",
    "print(result.content)"
   ]
  },
  {
   "cell_type": "code",
   "execution_count": 13,
   "metadata": {},
   "outputs": [
    {
     "name": "stdout",
     "output_type": "stream",
     "text": [
      "{'thought': 'The query is asking to color the protein by chain, which can be achieved using the util.cbc function from the utilities library that colors molecules based on their chain identity.', 'explanation': \"The util.cbc function colors each chain in the protein structure with a different color, making it visually easier to distinguish between different chains. The default selection is 'all', which means it will color all chains in the loaded protein.\", 'not_related': False, 'missing_requirements': 'The command requires a protein structure to be loaded in PyMOL. If no structure is loaded, the command cannot be executed.', 'usage': \"util.cbc(selection='(all)', first_color=7, quiet=1)\", 'reference': 'https://pymolwiki.org/index.php?title=CBC&oldid=7440'}\n"
     ]
    }
   ],
   "source": [
    "best_documents = parse_dict(result.content)\n",
    "print(best_documents)"
   ]
  },
  {
   "cell_type": "code",
   "execution_count": 14,
   "metadata": {},
   "outputs": [
    {
     "name": "stdout",
     "output_type": "stream",
     "text": [
      "```python\n",
      "{\n",
      "    \"thought\": \"The query is about selecting water molecules, which can be accomplished using the 'select' command in PyMOL. Water molecules are typically represented by the residue name 'HOH' or 'WAT'.\",\n",
      "    \"explanation\": \"To select water molecules in PyMOL, you can use the 'select' command along with a selection expression that identifies water molecules based on their residue name. This allows you to create a named selection of all water molecules in the currently loaded structure.\",\n",
      "    \"not_related\": false,\n",
      "    \"missing_requirements\": \"There is no missing requirement for this command as long as a structure containing water molecules is loaded in PyMOL.\",\n",
      "    \"usage\": \"cmd.select('water_molecules', 'resn HOH')\",\n",
      "    \"reference\": \"https://pymolwiki.org/index.php?title=Select\"\n",
      "}\n",
      "```\n"
     ]
    },
    {
     "ename": "",
     "evalue": "",
     "output_type": "error",
     "traceback": [
      "\u001b[1;31mThe Kernel crashed while executing code in the current cell or a previous cell. \n",
      "\u001b[1;31mPlease review the code in the cell(s) to identify a possible cause of the failure. \n",
      "\u001b[1;31mClick <a href='https://aka.ms/vscodeJupyterKernelCrash'>here</a> for more info. \n",
      "\u001b[1;31mView Jupyter <a href='command:jupyter.viewOutput'>log</a> for further details."
     ]
    }
   ],
   "source": [
    "query = \"select the water molecules\"\n",
    "history.append(gennerate_query_to_function_prompt(query=query, qdrant=qdrant, top_k=3))\n",
    "result = chat.invoke(history)\n",
    "print(result.content)"
   ]
  },
  {
   "cell_type": "code",
   "execution_count": null,
   "metadata": {},
   "outputs": [],
   "source": []
  }
 ],
 "metadata": {
  "kernelspec": {
   "display_name": "rdk",
   "language": "python",
   "name": "python3"
  },
  "language_info": {
   "codemirror_mode": {
    "name": "ipython",
    "version": 3
   },
   "file_extension": ".py",
   "mimetype": "text/x-python",
   "name": "python",
   "nbconvert_exporter": "python",
   "pygments_lexer": "ipython3",
   "version": "3.12.5"
  }
 },
 "nbformat": 4,
 "nbformat_minor": 2
}
