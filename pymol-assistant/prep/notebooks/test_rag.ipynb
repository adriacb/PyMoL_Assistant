{
 "cells": [
  {
   "cell_type": "code",
   "execution_count": 1,
   "metadata": {},
   "outputs": [
    {
     "name": "stdout",
     "output_type": "stream",
     "text": [
      "Qdrant API Key:  f3TPb\n",
      "OpenAI API Key:  sk-pr\n"
     ]
    }
   ],
   "source": [
    "import os\n",
    "import sys\n",
    "\n",
    "# two directories up\n",
    "sys.path.append(os.path.join(os.getcwd(), os.pardir, os.pardir))\n",
    "from src.db.vector_store import load_config, load_vector_store, OPENAI_API_KEY, QDRANT_API_KEY\n",
    "from qdrant_client import QdrantClient\n",
    "from langchain_openai import ChatOpenAI\n",
    "\n",
    "config = load_config()\n",
    "os.environ[\"OPENAI_API_KEY\"] = OPENAI_API_KEY\n",
    "os.environ[\"QDRANT_API_KEY\"] = QDRANT_API_KEY\n",
    "\n",
    "\n",
    "EMBEDDING_MODEL = \"text-embedding-3-small\"\n",
    "\n",
    "QDRANT_URL = config.get('qdrant').get('url')\n",
    "QDRANT_COLLECTION_NAME = config.get('qdrant').get('collection_name')"
   ]
  },
  {
   "cell_type": "code",
   "execution_count": 2,
   "metadata": {},
   "outputs": [],
   "source": [
    "chat = ChatOpenAI(\n",
    "    model='gpt-4o-mini'\n",
    ")"
   ]
  },
  {
   "cell_type": "code",
   "execution_count": 3,
   "metadata": {},
   "outputs": [],
   "source": [
    "from langchain_qdrant import Qdrant\n",
    "from langchain_openai import OpenAIEmbeddings\n",
    "\n",
    "embed_model = OpenAIEmbeddings(model=EMBEDDING_MODEL)\n",
    "\n",
    "qdrant = Qdrant.from_existing_collection(\n",
    "    url=QDRANT_URL,\n",
    "    embedding=embed_model,\n",
    "    collection_name=QDRANT_COLLECTION_NAME,\n",
    "    vector_name=\"content\", \n",
    "    content_payload_key='content',\n",
    "    distance_strategy='COSINE'\n",
    ")"
   ]
  },
  {
   "cell_type": "code",
   "execution_count": 88,
   "metadata": {},
   "outputs": [],
   "source": [
    "from langchain.schema import (\n",
    "    SystemMessage,    # Generic system message\n",
    "    HumanMessage,     # HumanMessage is a message from the human\n",
    "    AIMessage,        # AIMessage is a message from the AI\n",
    ")\n",
    "\n",
    "def generate_grader_prompt(query: str, qdrant: Qdrant, top_k:int=3) -> HumanMessage:\n",
    "    LLM_GRADER_PROMPT = \"\"\"\n",
    "   You are provided with a query and retrieved documents from a PyMoL function database. Your task is to grade each document for relevance based on the query.\n",
    "\n",
    "    Step-by-step instructions:\n",
    "\n",
    "    Analyze each document and its relevance to the query. Assign a score from 0.0 to 1.0 based on how well it answers or aligns with the query. A score of 1.0 indicates high relevance, while 0.0 means no relevance.\n",
    "    Explain your reasoning behind each score.\n",
    "    Suggest usage of the document by identifying important Python methods (starting with cmd.) and providing optimal parameters for these methods, if applicable.\n",
    "    Output format: Return a list of dictionaries with the following keys:\n",
    "\n",
    "    document: The content of the document.\n",
    "    relevance_score: A float from 0.0 to 1.0 indicating relevance.\n",
    "    explanation: A brief reasoning for the assigned score.\n",
    "    usage: (Optional) Suggested PyMoL functions and parameters relevant to the query.\n",
    "    Query: {query}\n",
    "\n",
    "    Context: {context}\n",
    "    \"\"\"\n",
    "    results = qdrant.similarity_search(query=query, k=top_k)\n",
    "\n",
    "    # the context will be the content of each document\n",
    "    context = \"\"\n",
    "\n",
    "    for i, result in enumerate(results):\n",
    "        context += f\"{i+1}. Document:\\n{result.page_content}\\n\\n\"\n",
    "\n",
    "    prompt = HumanMessage(content=LLM_GRADER_PROMPT.format(\n",
    "        query=query,\n",
    "        context=context\n",
    "    ))\n",
    "\n",
    "    return prompt"
   ]
  },
  {
   "cell_type": "code",
   "execution_count": 113,
   "metadata": {},
   "outputs": [],
   "source": [
    "query = \"Method to align two structures\"\n",
    "query = \"select the 1a8o protein\"\n",
    "\n",
    "history = [\n",
    "    SystemMessage(content=\"\"\"Your are a helpful assistant expert in the field of molecular biology, \n",
    "specifically using PyMoL (Python Molecular Viewer) to visualize and manipulate\n",
    "3D molecular structures. You are tasked with helping a user with a question, you may\n",
    "need to know if the user is asking for a command, a question, or a task. In that case,\n",
    "use the most appropiate tool to help the user.\n",
    "                  \n",
    "You can use the following commands to start:\n",
    "    - Load a structure from the PDB: cmd.fetch('1a8o')\n",
    "    - Select the structure that has been loaded with fetch: cmd.select('1a8o')\n",
    "\"\"\"),\n",
    "    ]\n",
    "\n",
    "history.append(generate_grader_prompt(query=query, qdrant=qdrant, top_k=3))\n"
   ]
  },
  {
   "cell_type": "code",
   "execution_count": 114,
   "metadata": {},
   "outputs": [],
   "source": [
    "result = chat.invoke(history)"
   ]
  },
  {
   "cell_type": "code",
   "execution_count": 115,
   "metadata": {},
   "outputs": [
    {
     "data": {
      "text/plain": [
       "AIMessage(content='Here are the relevance scores and analyses for the provided documents based on the query to select the 1a8o protein:\\n\\n1. **Document 1:**\\n   - **document:** Fetch Fetch retrieves a protein structure from the PDB and loads it into PyMOL...\\n   - **relevance_score:** 1.0\\n   - **explanation:** This document directly discusses the `fetch` command, which is necessary for retrieving the 1a8o protein from the PDB. It provides detailed information about how to use the command, relevant parameters, and examples that are closely related to the query.\\n   - **usage:** Suggested PyMOL function: `cmd.fetch(\\'1a8o\\')` - This command will retrieve the specified protein structure from the PDB.\\n\\n2. **Document 2:**\\n   - **document:** Indicate indicate shows a visual representation of an atom selection...\\n   - **relevance_score:** 0.2\\n   - **explanation:** This document discusses the `indicate` command, which is related to visual representation of selections in PyMOL. However, it does not directly pertain to selecting or fetching the 1a8o protein, making it only marginally relevant to the query.\\n   - **usage:** Suggested PyMOL function: `cmd.indicate(\\'your_selection_here\\')` - While this command could be useful after fetching the protein, it does not relate to the actual fetching of the 1a8o protein.\\n\\n3. **Document 3:**\\n   - **document:** Unpick unpick deletes the special \"pk\" atom selections (pk1, pk2, etc.) used in atom picking and molecular editing...\\n   - **relevance_score:** 0.1\\n   - **explanation:** This document describes the `unpick` command, which is used to delete selections in PyMOL. It has no relevance to the task of fetching or selecting the 1a8o protein, thus receiving a very low score.\\n   - **usage:** Suggested PyMOL function: `cmd.unpick()` - This command can be used after fetching the protein, but it does not assist in the context of the query regarding the selection of the 1a8o protein.\\n\\n### Summary Output:\\n```json\\n[\\n    {\\n        \"document\": \"Fetch Fetch retrieves a protein structure from the PDB and loads it into PyMOL...\",\\n        \"relevance_score\": 1.0,\\n        \"explanation\": \"This document directly discusses the fetch command, which is necessary for retrieving the 1a8o protein from the PDB.\",\\n        \"usage\": \"cmd.fetch(\\'1a8o\\')\"\\n    },\\n    {\\n        \"document\": \"Indicate indicate shows a visual representation of an atom selection...\",\\n        \"relevance_score\": 0.2,\\n        \"explanation\": \"This document discusses the indicate command, which is related to visual representation of selections in PyMOL, but does not pertain to fetching the 1a8o protein.\",\\n        \"usage\": \"cmd.indicate(\\'your_selection_here\\')\"\\n    },\\n    {\\n        \"document\": \"Unpick unpick deletes the special \\\\\"pk\\\\\" atom selections (pk1, pk2, etc.)...\",\\n        \"relevance_score\": 0.1,\\n        \"explanation\": \"This document describes the unpick command, which has no relevance to fetching or selecting the 1a8o protein.\",\\n        \"usage\": \"cmd.unpick()\"\\n    }\\n]\\n```', additional_kwargs={'refusal': None}, response_metadata={'token_usage': {'completion_tokens': 725, 'prompt_tokens': 1614, 'total_tokens': 2339, 'completion_tokens_details': {'audio_tokens': None, 'reasoning_tokens': 0}, 'prompt_tokens_details': {'audio_tokens': None, 'cached_tokens': 0}}, 'model_name': 'gpt-4o-mini-2024-07-18', 'system_fingerprint': 'fp_482c22a7bc', 'finish_reason': 'stop', 'logprobs': None}, id='run-0cc20386-1ef2-4cb8-a40b-295c09372f9d-0', usage_metadata={'input_tokens': 1614, 'output_tokens': 725, 'total_tokens': 2339, 'input_token_details': {'cache_read': 0}, 'output_token_details': {'reasoning': 0}})"
      ]
     },
     "execution_count": 115,
     "metadata": {},
     "output_type": "execute_result"
    }
   ],
   "source": [
    "result"
   ]
  },
  {
   "cell_type": "code",
   "execution_count": 116,
   "metadata": {},
   "outputs": [
    {
     "name": "stdout",
     "output_type": "stream",
     "text": [
      "Here are the relevance scores and analyses for the provided documents based on the query to select the 1a8o protein:\n",
      "\n",
      "1. **Document 1:**\n",
      "   - **document:** Fetch Fetch retrieves a protein structure from the PDB and loads it into PyMOL...\n",
      "   - **relevance_score:** 1.0\n",
      "   - **explanation:** This document directly discusses the `fetch` command, which is necessary for retrieving the 1a8o protein from the PDB. It provides detailed information about how to use the command, relevant parameters, and examples that are closely related to the query.\n",
      "   - **usage:** Suggested PyMOL function: `cmd.fetch('1a8o')` - This command will retrieve the specified protein structure from the PDB.\n",
      "\n",
      "2. **Document 2:**\n",
      "   - **document:** Indicate indicate shows a visual representation of an atom selection...\n",
      "   - **relevance_score:** 0.2\n",
      "   - **explanation:** This document discusses the `indicate` command, which is related to visual representation of selections in PyMOL. However, it does not directly pertain to selecting or fetching the 1a8o protein, making it only marginally relevant to the query.\n",
      "   - **usage:** Suggested PyMOL function: `cmd.indicate('your_selection_here')` - While this command could be useful after fetching the protein, it does not relate to the actual fetching of the 1a8o protein.\n",
      "\n",
      "3. **Document 3:**\n",
      "   - **document:** Unpick unpick deletes the special \"pk\" atom selections (pk1, pk2, etc.) used in atom picking and molecular editing...\n",
      "   - **relevance_score:** 0.1\n",
      "   - **explanation:** This document describes the `unpick` command, which is used to delete selections in PyMOL. It has no relevance to the task of fetching or selecting the 1a8o protein, thus receiving a very low score.\n",
      "   - **usage:** Suggested PyMOL function: `cmd.unpick()` - This command can be used after fetching the protein, but it does not assist in the context of the query regarding the selection of the 1a8o protein.\n",
      "\n",
      "### Summary Output:\n",
      "```json\n",
      "[\n",
      "    {\n",
      "        \"document\": \"Fetch Fetch retrieves a protein structure from the PDB and loads it into PyMOL...\",\n",
      "        \"relevance_score\": 1.0,\n",
      "        \"explanation\": \"This document directly discusses the fetch command, which is necessary for retrieving the 1a8o protein from the PDB.\",\n",
      "        \"usage\": \"cmd.fetch('1a8o')\"\n",
      "    },\n",
      "    {\n",
      "        \"document\": \"Indicate indicate shows a visual representation of an atom selection...\",\n",
      "        \"relevance_score\": 0.2,\n",
      "        \"explanation\": \"This document discusses the indicate command, which is related to visual representation of selections in PyMOL, but does not pertain to fetching the 1a8o protein.\",\n",
      "        \"usage\": \"cmd.indicate('your_selection_here')\"\n",
      "    },\n",
      "    {\n",
      "        \"document\": \"Unpick unpick deletes the special \\\"pk\\\" atom selections (pk1, pk2, etc.)...\",\n",
      "        \"relevance_score\": 0.1,\n",
      "        \"explanation\": \"This document describes the unpick command, which has no relevance to fetching or selecting the 1a8o protein.\",\n",
      "        \"usage\": \"cmd.unpick()\"\n",
      "    }\n",
      "]\n",
      "```\n"
     ]
    }
   ],
   "source": [
    "print(result.content)"
   ]
  },
  {
   "cell_type": "code",
   "execution_count": 117,
   "metadata": {},
   "outputs": [
    {
     "name": "stdout",
     "output_type": "stream",
     "text": [
      "[{'document': 'Fetch Fetch retrieves a protein structure from the PDB and loads it into PyMOL...', 'relevance_score': 1.0, 'explanation': 'This document directly discusses the fetch command, which is necessary for retrieving the 1a8o protein from the PDB.', 'usage': \"cmd.fetch('1a8o')\"}, {'document': 'Indicate indicate shows a visual representation of an atom selection...', 'relevance_score': 0.2, 'explanation': 'This document discusses the indicate command, which is related to visual representation of selections in PyMOL, but does not pertain to fetching the 1a8o protein.', 'usage': \"cmd.indicate('your_selection_here')\"}, {'document': 'Unpick unpick deletes the special \"pk\" atom selections (pk1, pk2, etc.)...', 'relevance_score': 0.1, 'explanation': 'This document describes the unpick command, which has no relevance to fetching or selecting the 1a8o protein.', 'usage': 'cmd.unpick()'}]\n"
     ]
    }
   ],
   "source": [
    "import ast\n",
    "\n",
    "def parse_dict(content: str):\n",
    "    content = content.replace(\"```python\", \"\")\n",
    "    content = content.replace(\"```\", \"\")\n",
    "    return ast.literal_eval(content)\n",
    "\n",
    "import json\n",
    "\n",
    "def extract_and_parse_json(response: str):\n",
    "    try:\n",
    "        # Find the start and end of the JSON part in the response\n",
    "        json_start = response.find(\"[\")  # Find where the JSON array starts\n",
    "        json_end = response.rfind(\"]\")   # Find where the JSON array ends\n",
    "\n",
    "        # If valid JSON section is found\n",
    "        if json_start != -1 and json_end != -1:\n",
    "            # Extract the JSON substring\n",
    "            json_str = response[json_start:json_end+1]\n",
    "\n",
    "            # Attempt to parse the extracted JSON string\n",
    "            parsed_dict = json.loads(json_str)\n",
    "            return parsed_dict\n",
    "        else:\n",
    "            print(\"Could not find valid JSON in the response.\")\n",
    "            return None\n",
    "    except json.JSONDecodeError as e:\n",
    "        print(\"Error parsing the response to a dictionary:\", e)\n",
    "        return None\n",
    "\n",
    "best_documents = extract_and_parse_json(result.content)\n",
    "print(best_documents)"
   ]
  },
  {
   "cell_type": "code",
   "execution_count": 80,
   "metadata": {},
   "outputs": [
    {
     "data": {
      "text/plain": [
       "'fetch 1a8o'"
      ]
     },
     "execution_count": 80,
     "metadata": {},
     "output_type": "execute_result"
    }
   ],
   "source": [
    "best_documents[0]['usage']"
   ]
  },
  {
   "cell_type": "code",
   "execution_count": null,
   "metadata": {},
   "outputs": [],
   "source": []
  }
 ],
 "metadata": {
  "kernelspec": {
   "display_name": "rdk",
   "language": "python",
   "name": "python3"
  },
  "language_info": {
   "codemirror_mode": {
    "name": "ipython",
    "version": 3
   },
   "file_extension": ".py",
   "mimetype": "text/x-python",
   "name": "python",
   "nbconvert_exporter": "python",
   "pygments_lexer": "ipython3",
   "version": "3.12.5"
  }
 },
 "nbformat": 4,
 "nbformat_minor": 2
}
