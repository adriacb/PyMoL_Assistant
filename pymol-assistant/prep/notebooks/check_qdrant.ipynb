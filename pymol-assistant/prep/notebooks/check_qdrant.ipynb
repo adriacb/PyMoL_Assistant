{
 "cells": [
  {
   "cell_type": "code",
   "execution_count": 1,
   "metadata": {},
   "outputs": [
    {
     "name": "stdout",
     "output_type": "stream",
     "text": [
      "Qdrant API Key:  f3TPb\n",
      "OpenAI API Key:  sk-pr\n"
     ]
    }
   ],
   "source": [
    "import os\n",
    "import sys\n",
    "import openai\n",
    "# two directories up\n",
    "sys.path.append(os.path.join(os.getcwd(), os.pardir, os.pardir))\n",
    "from src.db.vector_store import load_config, load_vector_store, OPENAI_API_KEY, QDRANT_API_KEY\n",
    "from qdrant_client import QdrantClient\n",
    "\n",
    "os.environ[\"OPENAI_API_KEY\"] = OPENAI_API_KEY\n",
    "os.environ[\"QDRANT_API_KEY\"] = QDRANT_API_KEY\n",
    "\n",
    "EMBEDDING_MODEL = \"text-embedding-3-small\""
   ]
  },
  {
   "cell_type": "code",
   "execution_count": 2,
   "metadata": {},
   "outputs": [],
   "source": [
    "config = load_config()"
   ]
  },
  {
   "cell_type": "code",
   "execution_count": 3,
   "metadata": {},
   "outputs": [],
   "source": [
    "QDRANT_URL = config.get('qdrant').get('url')\n",
    "QDRANT_COLLECTION_NAME = config.get('qdrant').get('collection_name')\n",
    "\n",
    "# This initializes the Qdrant client using the QDRANT_URL and QDRANT_API_KEY\n",
    "qdrant_client = QdrantClient(\n",
    "    url=QDRANT_URL,\n",
    "    api_key=QDRANT_API_KEY\n",
    ")"
   ]
  },
  {
   "cell_type": "code",
   "execution_count": 4,
   "metadata": {},
   "outputs": [],
   "source": [
    "from langchain_community.vectorstores import Qdrant"
   ]
  },
  {
   "cell_type": "code",
   "execution_count": 5,
   "metadata": {},
   "outputs": [],
   "source": [
    "def query_qdrant(query: str, collection_name: str, vector_name:str, top_k:int=5) -> dict:\n",
    "    \"\"\"\n",
    "    Query the Qdrant vector store with a given query and return the top_k results\n",
    "\n",
    "    Args:\n",
    "        query (str): The query to search for\n",
    "        collection_name (str): The name of the collection to search in\n",
    "        vector_name (str): The name of the vector to search in\n",
    "        top_k (int): The number of results to return\n",
    "\n",
    "    Returns:\n",
    "        dict: The top_k results from the Qdrant vector store\n",
    "    \"\"\"\n",
    "\n",
    "    embedded_query = openai.embeddings.create(\n",
    "        input=query,\n",
    "        model=EMBEDDING_MODEL\n",
    "    ).data[0].embedding\n",
    "\n",
    "    query_results = qdrant_client.search(\n",
    "        collection_name=collection_name,\n",
    "        query_vector=(\n",
    "            vector_name, embedded_query\n",
    "        ),\n",
    "        limit=top_k, \n",
    "        query_filter=None\n",
    "    )\n",
    "\n",
    "    return query_results"
   ]
  },
  {
   "cell_type": "code",
   "execution_count": 15,
   "metadata": {},
   "outputs": [],
   "source": [
    "#results = query_qdrant(\"Method to align structures\", QDRANT_COLLECTION_NAME, \"content\")\n",
    "#results = query_qdrant(\"Select the 1a8o structure\", QDRANT_COLLECTION_NAME, \"content\")\n",
    "results = query_qdrant(\"how to select atoms\", QDRANT_COLLECTION_NAME, \"content\")#"
   ]
  },
  {
   "cell_type": "code",
   "execution_count": 16,
   "metadata": {},
   "outputs": [
    {
     "name": "stdout",
     "output_type": "stream",
     "text": [
      "1. score: 0.5422758 - Function: Select\n",
      "Select select creates a named selection from an atom selection.  Selections are one of the most powerful aspects of PyMOL and learning to use selections well is paramount to quickly achieving your goals in PyMOL.\n",
      "\n",
      "Contents\n",
      "\n",
      "1 Usage\n",
      "2 Arguments\n",
      "3 Examples\n",
      "4 Notes\n",
      "5 See Also\n",
      "\n",
      "\n",
      "Type help selections for more information about selections. \n",
      "\n",
      "See Also\n",
      "Selection Algebra\n",
      "Property Selectors\n",
      "\n",
      "\n",
      "\n",
      "\n",
      "Retrieved from \"https://pymolwiki.org/index.php?title=Select&oldid=12779\"\n",
      "Categories: Pages using deprecated source tagsCommandsSelecting\n",
      "\n",
      " name = str: a unique name for the selection {default if skipped: sele}\n",
      "selection = str: a selection-expression\n",
      "enable = 0/1: show selection indicators {default: 1}\n",
      "quiet = 0/1 {default: 0 for command, 1 for API}\n",
      "merge = 0/1: update existing named selection {default: 0}\n",
      "state = int: object state, affects spacial operators like within {default: 0 (all states)}\n",
      " select near , (ll expand 8)\n",
      "select near , (ll expand 8)\n",
      "select bb, (name CA+N+C+O)\n",
      "\n",
      "cmd.select(\"%s_%s\"%(prefix,stretch), \"none\")\n",
      "\n",
      " select name [, selection [, enable [, quiet [, merge [, state ]]]]]\n",
      "\n",
      "Convenience shortcut to create selection with name \"sele\":\n",
      "\n",
      "select (selection)\n",
      "\n",
      "\n",
      "\n",
      "2. score: 0.5178818 - Function: Mask\n",
      "Mask mask makes it impossible to select the indicated atoms using the mouse.  This is useful when you are working with one molecule in front of another and wish to avoid accidentally selecting atoms in the background.\n",
      "\n",
      "   cmd.mask( string selection=\"(all)\" )\n",
      "\n",
      "SEE ALSO\n",
      "unmask, protect, deprotect\n",
      "\n",
      "\n",
      "\n",
      "\n",
      "\n",
      "Retrieved from \"https://pymolwiki.org/index.php?title=Mask&oldid=12092\"\n",
      "Categories: Pages using deprecated source tagsCommands\n",
      "\n",
      "mask (selection)\n",
      "\n",
      "\n",
      "\n",
      "3. score: 0.51462245 - Function: Edit\n",
      "Edit edit picks an atom or bond for editing.\n",
      "\n",
      "Contents\n",
      "\n",
      "1 USAGE\n",
      "2 PYMOL API\n",
      "3 NOTES\n",
      "4 SEE ALSO\n",
      "\n",
      "\n",
      "If only one selection is provided, an atom is picked.\n",
      "If two selections are provided, the bond between them\n",
      "is picked (if one exists).\n",
      "\n",
      "SEE ALSO\n",
      "unpick, remove_picked, cycle_valence, torsion \n",
      "\n",
      "\n",
      "\n",
      "\n",
      "\n",
      "Retrieved from \"https://pymolwiki.org/index.php?title=Edit&oldid=8379\"\n",
      "Categories: Pages using deprecated source tagsCommandsEditing Module\n",
      "\n",
      "   cmd.edit( string selection  [ ,string selection ] )\n",
      "\n",
      "edit (selection) [ ,(selection) ]\n",
      "\n",
      "\n",
      "\n",
      "4. score: 0.51440454 - Function: Count Atoms\n",
      "Count Atoms count_atoms returns a count of atoms in a selection.\n",
      "\n",
      "   cmd.count_atoms(string selection)\n",
      "\n",
      "\n",
      "\n",
      "\n",
      "\n",
      "Retrieved from \"https://pymolwiki.org/index.php?title=Count_Atoms&oldid=7448\"\n",
      "Categories: Pages using deprecated source tagsCommands\n",
      "\n",
      "count_atoms (selection)\n",
      "\n",
      "\n",
      "\n",
      "5. score: 0.50042117 - Function: Indicate\n",
      "Indicate indicate shows a visual representation of an atom selection.\n",
      "The image on the left has nothing indicated.  The image on the right has the helices \"indicated,\" which PyMOL represents as small red dots.\n",
      "\n",
      "\n",
      "\n",
      "\n",
      "\n",
      "\n",
      "\n",
      "\n",
      "\n",
      "\n",
      "\n",
      "\n",
      "\n",
      "   cmd.count(string selection)\n",
      "\n",
      "\n",
      "\n",
      "\n",
      "\n",
      "Retrieved from \"https://pymolwiki.org/index.php?title=Indicate&oldid=7511\"\n",
      "Categories: Pages using deprecated source tagsCommands\n",
      "\n",
      "indicate (selection)\n",
      "\n",
      "\n",
      "\n"
     ]
    }
   ],
   "source": [
    "for i, article in enumerate(results):\n",
    "    print(f\"{i+1}. score: {article.score} - Function: {article.payload['name']}\")\n",
    "    print(f\"{article.payload['content'].strip('')}\\n\")"
   ]
  },
  {
   "cell_type": "code",
   "execution_count": 8,
   "metadata": {},
   "outputs": [],
   "source": [
    "from langchain_openai import OpenAIEmbeddings\n",
    "\n",
    "embed_model = OpenAIEmbeddings(model=EMBEDDING_MODEL)"
   ]
  },
  {
   "cell_type": "code",
   "execution_count": 9,
   "metadata": {},
   "outputs": [],
   "source": [
    "from langchain_qdrant import Qdrant\n",
    "\n",
    "qdrant = Qdrant.from_existing_collection(\n",
    "    url=QDRANT_URL,\n",
    "    embedding=embed_model,\n",
    "    collection_name=QDRANT_COLLECTION_NAME,\n",
    "    vector_name=\"content\", \n",
    "    content_payload_key='content',\n",
    "    distance_strategy='COSINE'\n",
    ")"
   ]
  },
  {
   "cell_type": "code",
   "execution_count": 10,
   "metadata": {},
   "outputs": [],
   "source": [
    "query = \"Method to align structures\"\n",
    "results = qdrant.similarity_search(query=query, k=3)"
   ]
  },
  {
   "cell_type": "code",
   "execution_count": 11,
   "metadata": {},
   "outputs": [],
   "source": [
    "# the context will be the content of each document\n",
    "context = \"\"\n",
    "\n",
    "for i, result in enumerate(results):\n",
    "    context += f\"{i+1}. Document:\\n{result.page_content}\\n\\n\""
   ]
  },
  {
   "cell_type": "code",
   "execution_count": 12,
   "metadata": {},
   "outputs": [
    {
     "ename": "SyntaxError",
     "evalue": "invalid syntax (1606323524.py, line 35)",
     "output_type": "error",
     "traceback": [
      "\u001b[1;36m  Cell \u001b[1;32mIn[12], line 35\u001b[1;36m\u001b[0m\n\u001b[1;33m    res = chat.\u001b[0m\n\u001b[1;37m               ^\u001b[0m\n\u001b[1;31mSyntaxError\u001b[0m\u001b[1;31m:\u001b[0m invalid syntax\n"
     ]
    }
   ],
   "source": [
    "from langchain.schema import (\n",
    "    SystemMessage,    # Generic system message\n",
    "    HumanMessage,     # HumanMessage is a message from the human\n",
    "    AIMessage,        # AIMessage is a message from the AI\n",
    ")\n",
    "\n",
    "messages = [SystemMessage(content=\"This is a conversation between a human and an AI assistant.\")]\n",
    "\n",
    "def generate_grader_prompt(query: str, qdrant: Qdrant, top_k:int=3) -> HumanMessage:\n",
    "    LLM_GRADER_PROMPT=\"\"\"\n",
    "    Given a query and context document retrieved from a database, \n",
    "    grade each document based on if it is relevant to the query\n",
    "    as either 'relevant' or 'not relevant'.\n",
    "\n",
    "    Query: {query}\n",
    "    Context: {context}\n",
    "    \"\"\"\n",
    "    results = qdrant.similarity_search(query=query, k=top_k)\n",
    "\n",
    "    # the context will be the content of each document\n",
    "    context = \"\"\n",
    "\n",
    "    for i, result in enumerate(results):\n",
    "        context += f\"{i+1}. Document:\\n{result.page_content}\\n\\n\"\n",
    "\n",
    "    prompt = HumanMessage(content=LLM_GRADER_PROMPT.format(\n",
    "        query=query,\n",
    "        context=context\n",
    "    ))\n",
    "\n",
    "    return prompt\n",
    "\n",
    "messages.append(generate_grader_prompt(query=query, qdrant=qdrant, top_k=3))\n",
    "\n",
    "res = chat.\n",
    "\n"
   ]
  },
  {
   "cell_type": "code",
   "execution_count": null,
   "metadata": {},
   "outputs": [],
   "source": []
  }
 ],
 "metadata": {
  "kernelspec": {
   "display_name": "rdk",
   "language": "python",
   "name": "python3"
  },
  "language_info": {
   "codemirror_mode": {
    "name": "ipython",
    "version": 3
   },
   "file_extension": ".py",
   "mimetype": "text/x-python",
   "name": "python",
   "nbconvert_exporter": "python",
   "pygments_lexer": "ipython3",
   "version": "3.12.5"
  }
 },
 "nbformat": 4,
 "nbformat_minor": 2
}
